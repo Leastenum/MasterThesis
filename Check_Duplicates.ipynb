{
  "nbformat": 4,
  "nbformat_minor": 0,
  "metadata": {
    "colab": {
      "provenance": [],
      "gpuType": "A100"
    },
    "kernelspec": {
      "name": "python3",
      "display_name": "Python 3"
    },
    "language_info": {
      "name": "python"
    },
    "accelerator": "GPU"
  },
  "cells": [
    {
      "cell_type": "code",
      "source": [
        "from google.colab import drive\n",
        "drive.mount('/content/drive')"
      ],
      "metadata": {
        "colab": {
          "base_uri": "https://localhost:8080/"
        },
        "id": "_fLkrhRgcf84",
        "outputId": "589be1e0-8f79-47f1-e80c-a5a2444505f4"
      },
      "execution_count": null,
      "outputs": [
        {
          "output_type": "stream",
          "name": "stdout",
          "text": [
            "Mounted at /content/drive\n"
          ]
        }
      ]
    },
    {
      "cell_type": "code",
      "source": [
        "base_folder = \"/content/drive/MyDrive/Final_folder_code_thesis/WildRF\"\n"
      ],
      "metadata": {
        "id": "buAvbrYXcsu1"
      },
      "execution_count": null,
      "outputs": []
    },
    {
      "cell_type": "code",
      "source": [
        "# Install necessary libraries\n",
        "!pip install imagehash pillow\n",
        "\n",
        "import os\n",
        "import imagehash\n",
        "from PIL import Image\n",
        "from google.colab import drive\n",
        "\n",
        "\n",
        "def get_image_phash(image_path):\n",
        "    \"\"\"Generate a perceptual hash for an image.\"\"\"\n",
        "    with Image.open(image_path) as img:\n",
        "        return imagehash.phash(img)  # pHash for robust duplicate detection\n",
        "\n",
        "def find_duplicate_images(base_folder):\n",
        "    \"\"\"Find duplicate images in multiple folders based on perceptual hashing.\"\"\"\n",
        "    seen_hashes = {}\n",
        "    duplicates = []\n",
        "\n",
        "    for root, _, files in os.walk(base_folder):\n",
        "        for file in files:\n",
        "            if file.lower().endswith(('.png', '.jpg', '.jpeg', '.gif', '.bmp', '.tiff', '.webp')):\n",
        "                file_path = os.path.join(root, file)\n",
        "                img_hash = get_image_phash(file_path)\n",
        "\n",
        "                if img_hash in seen_hashes:\n",
        "                    duplicates.append((file_path, seen_hashes[img_hash]))\n",
        "                else:\n",
        "                    seen_hashes[img_hash] = file_path\n",
        "\n",
        "    return duplicates\n",
        "\n",
        "# Run the duplicate check\n",
        "duplicates = find_duplicate_images(base_folder)\n",
        "\n",
        "# Output results\n",
        "if duplicates:\n",
        "    print(\"Duplicate images found:\")\n",
        "    for dup in duplicates:\n",
        "        print(f\"Duplicate: {dup[0]} is similar to {dup[1]}\")\n",
        "else:\n",
        "    print(\"No duplicates found.\")\n"
      ],
      "metadata": {
        "id": "CRCrbgy-c0dC",
        "collapsed": true
      },
      "execution_count": null,
      "outputs": []
    }
  ]
}